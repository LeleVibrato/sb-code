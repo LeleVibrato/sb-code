{
 "cells": [
  {
   "cell_type": "code",
   "execution_count": 4,
   "metadata": {},
   "outputs": [
    {
     "ename": "ValueError",
     "evalue": "没有找到匹配的模式",
     "output_type": "error",
     "traceback": [
      "\u001b[0;31m---------------------------------------------------------------------------\u001b[0m",
      "\u001b[0;31mValueError\u001b[0m                                Traceback (most recent call last)",
      "Cell \u001b[0;32mIn[4], line 12\u001b[0m\n\u001b[1;32m     10\u001b[0m parts \u001b[38;5;241m=\u001b[39m pattern\u001b[38;5;241m.\u001b[39msplit(text)\n\u001b[1;32m     11\u001b[0m \u001b[38;5;28;01mif\u001b[39;00m \u001b[38;5;28mlen\u001b[39m(parts) \u001b[38;5;241m==\u001b[39m \u001b[38;5;241m1\u001b[39m:  \u001b[38;5;66;03m# 如果 parts 长度为 1，说明没有找到匹配项\u001b[39;00m\n\u001b[0;32m---> 12\u001b[0m     \u001b[38;5;28;01mraise\u001b[39;00m \u001b[38;5;167;01mValueError\u001b[39;00m(\u001b[38;5;124m\"\u001b[39m\u001b[38;5;124m没有找到匹配的模式\u001b[39m\u001b[38;5;124m\"\u001b[39m)\n\u001b[1;32m     13\u001b[0m \u001b[38;5;28;01melse\u001b[39;00m:\n\u001b[1;32m     14\u001b[0m     before_match \u001b[38;5;241m=\u001b[39m parts[\u001b[38;5;241m0\u001b[39m]  \u001b[38;5;66;03m# 如果找到了匹配项，返回匹配前的文本\u001b[39;00m\n",
      "\u001b[0;31mValueError\u001b[0m: 没有找到匹配的模式"
     ]
    }
   ],
   "source": [
    "import re\n",
    "\n",
    "# 原始字符串，这里不包含匹配模式 \"What I.*? and Why\"\n",
    "text = \"This is an example where the pattern does not exist.\"\n",
    "\n",
    "# 正则表达式用于分割\n",
    "pattern = re.compile(r'(What I.*? and Why)')\n",
    "\n",
    "# 使用 re.split 分割字符串，并获取第一部分\n",
    "parts = pattern.split(text)\n",
    "if len(parts) == 1:  # 如果 parts 长度为 1，说明没有找到匹配项\n",
    "    raise ValueError(\"没有找到匹配的模式\")\n",
    "else:\n",
    "    before_match = parts[0]  # 如果找到了匹配项，返回匹配前的文本\n",
    "\n",
    "print(\"之前的文本部分:\", before_match)"
   ]
  },
  {
   "cell_type": "code",
   "execution_count": 3,
   "metadata": {},
   "outputs": [
    {
     "name": "stdout",
     "output_type": "stream",
     "text": [
      "之前的文本部分: Here is a sentence. \n"
     ]
    }
   ],
   "source": [
    "import re\n",
    "\n",
    "# 原始字符串，这里不包含匹配模式 \"What I.*? and Why\"\n",
    "text = \"Here is a sentence. What I’ve decided – and why I did it is simple.\"\n",
    "\n",
    "# 正则表达式用于分割\n",
    "pattern = re.compile(r'(What I.*? and why)')\n",
    "\n",
    "# 使用 re.split 分割字符串，并获取第一部分\n",
    "parts = pattern.split(text)\n",
    "before_match = parts[0] if len(parts) > 1 else text  # 如果没有匹配到，返回原始文本\n",
    "\n",
    "print(\"之前的文本部分:\", before_match)\n"
   ]
  },
  {
   "cell_type": "code",
   "execution_count": null,
   "metadata": {},
   "outputs": [],
   "source": []
  }
 ],
 "metadata": {
  "kernelspec": {
   "display_name": "base",
   "language": "python",
   "name": "python3"
  },
  "language_info": {
   "codemirror_mode": {
    "name": "ipython",
    "version": 3
   },
   "file_extension": ".py",
   "mimetype": "text/x-python",
   "name": "python",
   "nbconvert_exporter": "python",
   "pygments_lexer": "ipython3",
   "version": "3.11.7"
  }
 },
 "nbformat": 4,
 "nbformat_minor": 2
}
