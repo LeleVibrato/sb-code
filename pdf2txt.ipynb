{
 "cells": [
  {
   "cell_type": "code",
   "execution_count": 6,
   "metadata": {},
   "outputs": [],
   "source": [
    "import os\n",
    "import pandas as pd\n",
    "from pypdf import PdfReader\n",
    "import re"
   ]
  },
  {
   "cell_type": "code",
   "execution_count": 2,
   "metadata": {},
   "outputs": [],
   "source": [
    "# get the location of the pdf files\n",
    "csv_path = 'metadata.csv'\n",
    "df = pd.read_csv(csv_path)"
   ]
  },
  {
   "cell_type": "code",
   "execution_count": 3,
   "metadata": {},
   "outputs": [],
   "source": [
    "# create a directory to store the plaintext files\n",
    "output_dir = './plaintext'\n",
    "if not os.path.exists(output_dir):\n",
    "    os.makedirs(output_dir)"
   ]
  },
  {
   "cell_type": "code",
   "execution_count": 4,
   "metadata": {},
   "outputs": [
    {
     "name": "stdout",
     "output_type": "stream",
     "text": [
      "Current working directory: /home/sam/Simply-Business-Code\n"
     ]
    }
   ],
   "source": [
    "# print the current working directory\n",
    "print('Current working directory:', os.getcwd())"
   ]
  },
  {
   "cell_type": "markdown",
   "metadata": {},
   "source": [
    "The complaint\n",
    "What happened\n",
    "What I've decided and why\n",
    "My final decision"
   ]
  },
  {
   "cell_type": "code",
   "execution_count": 54,
   "metadata": {},
   "outputs": [],
   "source": [
    "def clean_text(text):\n",
    "    # Delete the PDF identification\n",
    "    text = re.sub(r'^DRN-\\d+\\n', '', text)\n",
    "    # Change \"’\" to \"'\"\n",
    "    text = re.sub(r'’', \"'\", text)\n",
    "    # Delete the non-ASCII characters\n",
    "    text = re.sub(r'[^\\x00-\\x7F]+', '', text)\n",
    "    # Delete the extra spaces\n",
    "    text = re.sub(r'\\s+', ' ', text)\n",
    "    \n",
    "    # Add new lines before specific keywords\n",
    "    text = text.replace(\"The complaint \", 'The complaint\\n')\n",
    "    text = text.replace(\"What happened \", '\\nWhat happened\\n')\n",
    "    text = text.replace(\"What I've decided and why \", \"\\nWhat I've decided and why\\n\")\n",
    "    \n",
    "    # Remove \"My final decision\" and everything after it\n",
    "    text = re.sub(r'My final decision.*', '', text, flags=re.DOTALL)\n",
    "    \n",
    "    return text"
   ]
  },
  {
   "cell_type": "code",
   "execution_count": 56,
   "metadata": {},
   "outputs": [],
   "source": [
    "# iterate through each row to get the PDF file path from 'location' column\n",
    "for index, row in df.iterrows():\n",
    "    pdf_path = row['location']\n",
    "\n",
    "    # extract text from the PDF file\n",
    "    try:\n",
    "        reader = PdfReader(pdf_path)\n",
    "        text = \"\"\n",
    "        for page in reader.pages:\n",
    "            text += page.extract_text()\n",
    "        \n",
    "        # clean the text\n",
    "        text = clean_text(text)\n",
    "\n",
    "        # create a plaintext file with the same name as the PDF file\n",
    "        txt_filename = os.path.basename(pdf_path).replace('.pdf', '.txt')\n",
    "        txt_path = os.path.join(output_dir, txt_filename)\n",
    "        \n",
    "        # write the text to the file\n",
    "        with open(txt_path, 'w', encoding='utf-8') as txt_file:\n",
    "            txt_file.write(text)\n",
    "    \n",
    "    except Exception as e:\n",
    "        print(f\"Error processing {pdf_path}: {e}\")"
   ]
  },
  {
   "cell_type": "code",
   "execution_count": null,
   "metadata": {},
   "outputs": [],
   "source": []
  },
  {
   "cell_type": "code",
   "execution_count": null,
   "metadata": {},
   "outputs": [],
   "source": []
  }
 ],
 "metadata": {
  "kernelspec": {
   "display_name": "base",
   "language": "python",
   "name": "python3"
  },
  "language_info": {
   "codemirror_mode": {
    "name": "ipython",
    "version": 3
   },
   "file_extension": ".py",
   "mimetype": "text/x-python",
   "name": "python",
   "nbconvert_exporter": "python",
   "pygments_lexer": "ipython3",
   "version": "3.11.7"
  }
 },
 "nbformat": 4,
 "nbformat_minor": 2
}
