{
 "cells": [
  {
   "cell_type": "code",
   "execution_count": null,
   "metadata": {},
   "outputs": [],
   "source": [
    "import os\n",
    "import glob\n",
    "import spacy\n",
    "import random\n",
    "import warnings\n",
    "from sentence_transformers import SentenceTransformer\n",
    "\n",
    "random.seed(123)\n",
    "# turn off depreciation warnings and future warnings\n",
    "warnings.filterwarnings(\"ignore\", category=DeprecationWarning)\n",
    "warnings.filterwarnings(\"ignore\", category=FutureWarning)"
   ]
  },
  {
   "cell_type": "code",
   "execution_count": null,
   "metadata": {},
   "outputs": [],
   "source": [
    "# function to load data\n",
    "def load_data(base_dir):\n",
    "    data = []\n",
    "    labels = []\n",
    "    files = []\n",
    "    for label in ['positive', 'negative']:\n",
    "        for filepath in glob.glob(os.path.join(base_dir, label, '*.txt')):\n",
    "            with open(filepath, 'r', encoding='utf-8') as file:\n",
    "                data.append(file.read())\n",
    "                labels.append(1 if label == 'positive' else 0)\n",
    "                files.append(filepath)\n",
    "                \n",
    "    return data, labels, files\n",
    "\n",
    "# delete the contents after \"What I've decided and why\"\n",
    "def clean_data(data):\n",
    "    cleaned_data = []\n",
    "    for text in data:\n",
    "        cleaned_data.append(text.split(\"What I've decided and why\")[0])\n",
    "    return cleaned_data"
   ]
  },
  {
   "cell_type": "code",
   "execution_count": 17,
   "metadata": {},
   "outputs": [],
   "source": [
    "# load training data\n",
    "train_data, train_labels, train_files = load_data('data/train')\n",
    "# load test data\n",
    "test_data, test_labels, test_files = load_data('data/test')\n",
    "\n",
    "train_data = clean_data(train_data)\n",
    "test_data = clean_data(test_data)"
   ]
  },
  {
   "cell_type": "code",
   "execution_count": null,
   "metadata": {},
   "outputs": [],
   "source": []
  }
 ],
 "metadata": {
  "kernelspec": {
   "display_name": "base",
   "language": "python",
   "name": "python3"
  },
  "language_info": {
   "codemirror_mode": {
    "name": "ipython",
    "version": 3
   },
   "file_extension": ".py",
   "mimetype": "text/x-python",
   "name": "python",
   "nbconvert_exporter": "python",
   "pygments_lexer": "ipython3",
   "version": "3.11.7"
  }
 },
 "nbformat": 4,
 "nbformat_minor": 2
}
